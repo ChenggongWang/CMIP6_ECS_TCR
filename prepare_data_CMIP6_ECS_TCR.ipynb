{
 "cells": [
  {
   "cell_type": "markdown",
   "metadata": {},
   "source": [
    "## Import packages"
   ]
  },
  {
   "cell_type": "code",
   "execution_count": 1,
   "metadata": {},
   "outputs": [],
   "source": [
    "## import self defined functions\n",
    "from sys import path\n",
    "import os\n",
    "home = os.path.expanduser(\"~\")\n",
    "# insert at 1, 0 is the script path (or '' in REPL)\n",
    "path.insert(1, '/tigress/cw55/local/python_lib')\n",
    "from cg_funcs import global_mean_xarray, error_info, common_list"
   ]
  },
  {
   "cell_type": "code",
   "execution_count": 2,
   "metadata": {},
   "outputs": [],
   "source": [
    "import numpy as np\n",
    "import copy\n",
    "import subprocess\n",
    "import xarray as xr\n",
    "%matplotlib inline\n",
    "import matplotlib.pyplot as plt\n",
    "from sklearn.linear_model import LinearRegression as LiRe\n",
    "from sklearn.metrics import r2_score"
   ]
  },
  {
   "cell_type": "code",
   "execution_count": 3,
   "metadata": {},
   "outputs": [],
   "source": [
    "from scipy import stats\n",
    "from scipy.optimize import fsolve\n",
    "def r2_for_give_pvalue(p_value,N_sample):\n",
    "    '''\n",
    "    return the r2 for give p_value and sample size\n",
    "    assume BLUE OLS\n",
    "    '''\n",
    "    def func(r2):\n",
    "#     def func(t_v):\n",
    "        t_v = np.sqrt(r2*(N_sample-2)/(1-r2))\n",
    "        p_value_r2 = stats.t.sf(abs(t_v), df=N_sample-2)*2\n",
    "        return p_value_r2 - p_value\n",
    "    return fsolve(func, 0.001)"
   ]
  },
  {
   "cell_type": "markdown",
   "metadata": {},
   "source": [
    "# load model data"
   ]
  },
  {
   "cell_type": "code",
   "execution_count": 4,
   "metadata": {},
   "outputs": [
    {
     "name": "stdout",
     "output_type": "stream",
     "text": [
      "CPU times: user 8.29 s, sys: 2.85 s, total: 11.1 s\n",
      "Wall time: 8.86 s\n"
     ]
    }
   ],
   "source": [
    "%%time\n",
    "\n",
    "dvc_info = '2022ECSTCR'    # data version control\n",
    "time_length_check = { \"piControl\": 200, \"historical\": 165, \"hist-GHG\": 165, \"hist-aer\": 165,\n",
    "                      \"abrupt-4xCO2\": 150,  \"1pctCO2\": 150, \"amip-4xCO2\": 35, \"amip-p4K\": 35  }\n",
    "\n",
    "experiments= [\"piControl\",\"abrupt-4xCO2\",\"1pctCO2\"]\n",
    "# experiments= [\"piControl\"]\n",
    "\n",
    "res_hori = '5x5'\n",
    "var_list = \"tas rlut rsdt rsut\"\n",
    "ds_exp_var = {}\n",
    "for expri in experiments:\n",
    "    tle = time_length_check[expri]\n",
    "    ds_exp_var[expri] = {}\n",
    "    for var in var_list.split():\n",
    "        if expri == \"1pctCO2\" and var != 'tas': continue\n",
    "        dirpath = f\"$CMIP6post/CMIP6_post_regrid/{expri}/*/{var}/{var}.mon.0001-{tle:04d}.nc.r1i1p1*.{res_hori}.{dvc_info}\"\n",
    "        tmp = subprocess.run([\"source ~/.bash_env;  ls -f \"+dirpath], shell=True, capture_output=True)\n",
    "        error_info(tmp.stderr.decode(\"utf-8\"))\n",
    "        filelist = tmp.stdout.decode(\"utf-8\").split()\n",
    "        with  xr.open_mfdataset( filelist,\n",
    "                                 parallel=True,\n",
    "                                 combine='by_coords',\n",
    "                                 coords='minimal',\n",
    "                                 compat='override',\n",
    "                                 use_cftime=True) as data_tmp:\n",
    "            ds_exp_var[expri][var] = data_tmp"
   ]
  },
  {
   "cell_type": "code",
   "execution_count": 5,
   "metadata": {},
   "outputs": [],
   "source": [
    "# rename piControl ensemble for HadGEM3-GC31-xx\n",
    "# f1 -> f3\n",
    "pi_model = []\n",
    "expri = 'piControl'\n",
    "for var in var_list.split():\n",
    "    pi_model = copy.deepcopy(ds_exp_var[expri][var].model.values)\n",
    "    mi = []\n",
    "    for i, m in enumerate(pi_model):\n",
    "        if 'HadGEM3-GC31-' in m:\n",
    "#             print(m)\n",
    "            mi.append(i)\n",
    "            m_n, m_e = m.split()\n",
    "    for i in mi:\n",
    "        m_n, m_e = pi_model[i].split()\n",
    "        pi_model[i] = m_n+' '+m_e[:-2]+'f3'\n",
    "#     print(pi_model[mi])\n",
    "#     print(pi_model)\n",
    "    ds_exp_var[expri][var].coords['model'] = pi_model\n",
    "#     break"
   ]
  },
  {
   "cell_type": "code",
   "execution_count": 6,
   "metadata": {},
   "outputs": [],
   "source": [
    "## find common model\n",
    "model_lists = []\n",
    "\n",
    "for expri in experiments:\n",
    "    for var in var_list.split():\n",
    "        if expri == \"1pctCO2\" and var != 'tas': continue\n",
    "        model_lists.append(list(ds_exp_var[expri][var].model.values))"
   ]
  },
  {
   "cell_type": "code",
   "execution_count": 7,
   "metadata": {},
   "outputs": [
    {
     "name": "stdout",
     "output_type": "stream",
     "text": [
      "Com_len: 47 | Max_len: 57 | Min_len: 52\n",
      "['ACCESS-CM2 r1i1p1f1', 'ACCESS-ESM1-5 r1i1p1f1', 'AWI-CM-1-1-MR r1i1p1f1', 'BCC-CSM2-MR r1i1p1f1', 'BCC-ESM1 r1i1p1f1', 'CAMS-CSM1-0 r1i1p1f1', 'CAS-ESM2-0 r1i1p1f1', 'CESM2 r1i1p1f1', 'CESM2-FV2 r1i1p1f1', 'CESM2-WACCM r1i1p1f1', 'CESM2-WACCM-FV2 r1i1p1f1', 'CIESM r1i1p1f1', 'CMCC-CM2-SR5 r1i1p1f1', 'CMCC-ESM2 r1i1p1f1', 'CNRM-CM6-1 r1i1p1f2', 'CNRM-CM6-1-HR r1i1p1f2', 'CNRM-ESM2-1 r1i1p1f2', 'CanESM5 r1i1p1f1', 'E3SM-1-0 r1i1p1f1', 'EC-Earth3-AerChem r1i1p1f1', 'EC-Earth3-CC r1i1p1f1', 'EC-Earth3-Veg r1i1p1f1', 'FGOALS-f3-L r1i1p1f1', 'FGOALS-g3 r1i1p1f1', 'FIO-ESM-2-0 r1i1p1f1', 'GFDL-CM4 r1i1p1f1', 'GFDL-ESM4 r1i1p1f1', 'GISS-E2-1-G r1i1p1f1', 'GISS-E2-1-H r1i1p1f1', 'HadGEM3-GC31-LL r1i1p1f3', 'HadGEM3-GC31-MM r1i1p1f3', 'INM-CM4-8 r1i1p1f1', 'INM-CM5-0 r1i1p1f1', 'IPSL-CM6A-LR r1i1p1f1', 'KACE-1-0-G r1i1p1f1', 'MIROC-ES2L r1i1p1f2', 'MIROC6 r1i1p1f1', 'MPI-ESM-1-2-HAM r1i1p1f1', 'MPI-ESM1-2-HR r1i1p1f1', 'MPI-ESM1-2-LR r1i1p1f1', 'MRI-ESM2-0 r1i1p1f1', 'NESM3 r1i1p1f1', 'NorESM2-LM r1i1p1f1', 'NorESM2-MM r1i1p1f1', 'SAM0-UNICON r1i1p1f1', 'TaiESM1 r1i1p1f1', 'UKESM1-0-LL r1i1p1f2']\n",
      "CPU times: user 5.28 s, sys: 7.14 s, total: 12.4 s\n",
      "Wall time: 13 s\n"
     ]
    }
   ],
   "source": [
    "%%time\n",
    "## find common model\n",
    "model_lists = []\n",
    "\n",
    "for expri in experiments:\n",
    "    for var in var_list.split():\n",
    "        if expri == \"1pctCO2\" and var != 'tas': continue\n",
    "        model_lists.append(list(ds_exp_var[expri][var].model.values))\n",
    "    \n",
    "most_common_model = common_list(model_lists)\n",
    "model_num = len(most_common_model)\n",
    "print(most_common_model)\n",
    "\n",
    "for expri in experiments:\n",
    "    for var in var_list.split():\n",
    "        if expri == \"1pctCO2\" and var != 'tas': continue\n",
    "        ds_exp_var[expri][var] = ds_exp_var[expri][var].sel(model = most_common_model).load()\n",
    "    "
   ]
  },
  {
   "cell_type": "markdown",
   "metadata": {},
   "source": [
    "## Detrend on every model, month, grid (lat, lon) when the data has significant yearly trend. "
   ]
  },
  {
   "cell_type": "code",
   "execution_count": 8,
   "metadata": {},
   "outputs": [
    {
     "name": "stdout",
     "output_type": "stream",
     "text": [
      "abrupt-4xCO2\n",
      "tas\n",
      ">>>>>>>>>>>>>>>>>>>>>>>>>>>>>>>>>>>>>>>>>>>>>>>\n",
      "rlut\n",
      ">>>>>>>>>>>>>>>>>>>>>>>>>>>>>>>>>>>>>>>>>>>>>>>\n",
      "rsdt\n",
      ">>>>>>>>>>>>>>>>>>>>>>>>>>>>>>>>>>>>>>>>>>>>>>>\n",
      "rsut\n",
      ">>>>>>>>>>>>>>>>>>>>>>>>>>>>>>>>>>>>>>>>>>>>>>>\n",
      "abrupt-4xCO2 Detrend finished\n",
      "1pctCO2\n",
      "tas\n",
      ">>>>>>>>>>>>>>>>>>>>>>>>>>>>>>>>>>>>>>>>>>>>>>>\n",
      "1pctCO2 Detrend finished\n"
     ]
    }
   ],
   "source": [
    "r2_bar = r2_for_give_pvalue(0.05, 200)\n",
    "        \n",
    "ds_exp_var_copy = copy.deepcopy(ds_exp_var)\n",
    "# ######### test detrend on piControl data ############\n",
    "# for var in var_list.split():\n",
    "# #     for i, m in enumerate(model_hist):\n",
    "#     for m in set(model_piCo):\n",
    "#         print('>',end='')\n",
    "#         data_pi = ds_exp_var['piControl'][var][var].sel(model=m)\n",
    "#         data_pi = data_pi.values.reshape((200,-1)) # year, [month, lat, lon]\n",
    "#         X   = np.arange(200)[:,None]\n",
    "#         Y   = data_pi\n",
    "#         reg = LiRe().fit(X, Y)\n",
    "#         r2 = r2_score(Y, reg.predict(X), multioutput='raw_values')\n",
    "#         data_trend = np.where(r2>r2_bar, X@reg.coef_.T, 0) # only detrend significant regions\n",
    "# #         data_trend =  X@reg.coef_.T #  detrend all regions\n",
    "#         data_detrend = data_pi-data_trend\n",
    "#         ds_exp_var_copy['piControl'][var][var].sel(model=m)[:] = data_detrend.reshape((200*12,36,72))\n",
    "# logging.info('piControl Detrend finished')\n",
    "# ## GM\n",
    "# model_lager_trend = []\n",
    "# expri = 'piControl'\n",
    "# var = 'tas'\n",
    "# for m in set(model_piCo):\n",
    "#     data = ds_exp_var_copy[expri][var][var].sel(model=m).groupby('time.year').mean('time').compute()\n",
    "#     data = global_mean_xarray(data)\n",
    "#     ptrend, pvalue = reg_pi_trend(data)\n",
    "#     if pvalue < 0.01 and ptrend > 0.1:\n",
    "#         print(m, ptrend, pvalue)\n",
    "#         model_lager_trend.append(m)\n",
    "# print(f'models with significant (p<0.01) and large (dT > 0.1 /150 years) trend: \\n {model_lager_trend}')\n",
    "# ## NH-SH\n",
    "# expri = 'piControl'\n",
    "# var = 'tas'\n",
    "# for m in set(model_piCo):\n",
    "#     data = ds_exp_var_copy[expri][var][var].sel(model=m).groupby('time.year').mean('time').compute()\n",
    "#     data = global_mean_xarray(data.sel(lat=slice(  0,90))) \\\n",
    "#           - global_mean_xarray(data.sel(lat=slice(-90, 0)))\n",
    "#     ptrend, pvalue = reg_pi_trend(data)\n",
    "#     if pvalue < 0.01 and ptrend > 0.1:\n",
    "#         print(m, ptrend, pvalue)\n",
    "#         model_lager_trend.append(m)\n",
    "# print(f'models with significant (p<0.01) and large (dT > 0.1 /150 years) trend: \\n {model_lager_trend}')\n",
    "\n",
    "for expri in [\"abrupt-4xCO2\",\"1pctCO2\"]:\n",
    "    print(f'{expri}')\n",
    "    tle = time_length_check[expri]\n",
    "    for var in var_list.split():\n",
    "        if expri == \"1pctCO2\" and var != 'tas': continue\n",
    "        print(f'{var}')\n",
    "        for i, m in enumerate(most_common_model): \n",
    "            print('>',end='')\n",
    "            data_pi = ds_exp_var['piControl'][var][var].sel(model=most_common_model[i])\n",
    "            data_pi = data_pi.values.reshape((200,-1)) # year, [month, lat, lon]\n",
    "            X   = np.arange(200)[:,None]\n",
    "            Y   = data_pi\n",
    "            reg = LiRe().fit(X, Y)\n",
    "\n",
    "            r2 = r2_score(Y, reg.predict(X), multioutput='raw_values')\n",
    "            X   = np.arange(tle)[:,None]\n",
    "            data_trend = np.where(r2>r2_bar, X@reg.coef_.T, 0) # only detrend significant regions # L1\n",
    "#             data_trend =  X@reg.coef_.T #  detrend all regions # L2\n",
    "            data_hi = ds_exp_var[expri][var][var].sel(model=m)\n",
    "            data_hi = data_hi.values.reshape((tle,-1)) # year, [month, lat, lon]\n",
    "            data_detrend = data_hi-data_trend\n",
    "            ds_exp_var_copy[expri][var][var].sel(model=m)[:] = data_detrend.reshape((tle*12,36,72))\n",
    "        print()\n",
    "    print(f'{expri} Detrend finished')\n"
   ]
  },
  {
   "cell_type": "code",
   "execution_count": 9,
   "metadata": {},
   "outputs": [
    {
     "name": "stdout",
     "output_type": "stream",
     "text": [
      "CPU times: user 6.2 s, sys: 2.04 s, total: 8.23 s\n",
      "Wall time: 8.25 s\n"
     ]
    }
   ],
   "source": [
    "%%time\n",
    "var = 'tas'\n",
    "dtas_gm_4xCO2  = global_mean_xarray(ds_exp_var_copy['abrupt-4xCO2'][var][var].groupby('time.year').mean('time'))\\\n",
    "                -global_mean_xarray(ds_exp_var_copy['piControl'][var][var].mean(dim='time'))\n",
    "dtas_gm_4xCO2 = dtas_gm_4xCO2.load()\n",
    "var = 'rlut rsdt rsut'\n",
    "dR_gm_4xCO2 = {}\n",
    "for _var in var.split():\n",
    "    dR_gm_4xCO2[_var] = global_mean_xarray(ds_exp_var_copy['abrupt-4xCO2'][_var][_var].groupby('time.year').mean('time'))\\\n",
    "                       -global_mean_xarray(ds_exp_var_copy['piControl'][_var][_var].mean(dim='time'))\n",
    "dR_gm_4xCO2 = dR_gm_4xCO2['rsdt'] - dR_gm_4xCO2['rsut'] - dR_gm_4xCO2['rlut']\n",
    "dR_gm_4xCO2 = dR_gm_4xCO2.load()"
   ]
  },
  {
   "cell_type": "code",
   "execution_count": 10,
   "metadata": {},
   "outputs": [
    {
     "name": "stdout",
     "output_type": "stream",
     "text": [
      "CPU times: user 1.82 s, sys: 391 ms, total: 2.21 s\n",
      "Wall time: 2.22 s\n"
     ]
    }
   ],
   "source": [
    "%%time\n",
    "## global mean\n",
    "var = 'tas'\n",
    "dtas_gm_1pct  = global_mean_xarray(ds_exp_var_copy['1pctCO2'][var][var].groupby('time.year').mean('time'))\\\n",
    "                -global_mean_xarray(ds_exp_var_copy['piControl'][var][var].mean(dim='time'))\n",
    "dtas_gm_1pct = dtas_gm_1pct.load()"
   ]
  },
  {
   "cell_type": "markdown",
   "metadata": {},
   "source": [
    "# Save data (global mean values)"
   ]
  },
  {
   "cell_type": "code",
   "execution_count": 11,
   "metadata": {},
   "outputs": [
    {
     "name": "stdout",
     "output_type": "stream",
     "text": [
      "CPU times: user 771 µs, sys: 0 ns, total: 771 µs\n",
      "Wall time: 748 µs\n"
     ]
    }
   ],
   "source": [
    "%%time\n",
    "ds_data = xr.Dataset(\n",
    "    data_vars=dict(\n",
    "        dtas_gm_1pctCO2      = ([\"model\", \"year\"], dtas_gm_1pct.values),\n",
    "        dtas_gm_abrupt_4xCO2 = ([\"model\", \"year\"], dtas_gm_4xCO2.values),\n",
    "        dR_gm_abrupt_4xCO2   = ([\"model\", \"year\"], dR_gm_4xCO2.values),\n",
    "    ),\n",
    "    coords=dict(\n",
    "        model=([\"model\"], most_common_model),\n",
    "        year=([\"year\"], np.arange(150)),\n",
    "    ),\n",
    "    attrs=dict(description=\"CMIP6, model surface air temperature change in 1pctCO2 and abrupt_4xCO2 experiments.\"),\n",
    ")"
   ]
  },
  {
   "cell_type": "code",
   "execution_count": 12,
   "metadata": {},
   "outputs": [],
   "source": [
    "file_name = 'CMIP6_dtas_dR_data.detrend_L1.nc'\n",
    "ds_data.to_netcdf(file_name)"
   ]
  },
  {
   "cell_type": "code",
   "execution_count": null,
   "metadata": {},
   "outputs": [],
   "source": []
  },
  {
   "cell_type": "markdown",
   "metadata": {},
   "source": [
    "## "
   ]
  }
 ],
 "metadata": {
  "kernelspec": {
   "display_name": "cg37",
   "language": "python",
   "name": "cg37"
  },
  "language_info": {
   "codemirror_mode": {
    "name": "ipython",
    "version": 3
   },
   "file_extension": ".py",
   "mimetype": "text/x-python",
   "name": "python",
   "nbconvert_exporter": "python",
   "pygments_lexer": "ipython3",
   "version": "3.7.12"
  },
  "toc-autonumbering": true,
  "toc-showcode": true,
  "toc-showmarkdowntxt": true,
  "toc-showtags": false
 },
 "nbformat": 4,
 "nbformat_minor": 4
}
